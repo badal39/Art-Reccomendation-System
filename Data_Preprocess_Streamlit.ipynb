{
 "cells": [
  {
   "cell_type": "code",
   "execution_count": 1,
   "metadata": {},
   "outputs": [],
   "source": [
    "import pandas as pd"
   ]
  },
  {
   "attachments": {},
   "cell_type": "markdown",
   "metadata": {},
   "source": [
    "# Adding File Path"
   ]
  },
  {
   "cell_type": "code",
   "execution_count": 2,
   "metadata": {},
   "outputs": [
    {
     "data": {
      "text/html": [
       "<div>\n",
       "<style scoped>\n",
       "    .dataframe tbody tr th:only-of-type {\n",
       "        vertical-align: middle;\n",
       "    }\n",
       "\n",
       "    .dataframe tbody tr th {\n",
       "        vertical-align: top;\n",
       "    }\n",
       "\n",
       "    .dataframe thead th {\n",
       "        text-align: right;\n",
       "    }\n",
       "</style>\n",
       "<table border=\"1\" class=\"dataframe\">\n",
       "  <thead>\n",
       "    <tr style=\"text-align: right;\">\n",
       "      <th></th>\n",
       "      <th>Unnamed: 0</th>\n",
       "      <th>file</th>\n",
       "      <th>artist</th>\n",
       "      <th>genre</th>\n",
       "      <th>style</th>\n",
       "      <th>Dir</th>\n",
       "      <th>image</th>\n",
       "      <th>artist_name</th>\n",
       "      <th>image_description</th>\n",
       "    </tr>\n",
       "  </thead>\n",
       "  <tbody>\n",
       "    <tr>\n",
       "      <th>0</th>\n",
       "      <td>0</td>\n",
       "      <td>DATA/Baroque/rembrandt_the-angel-appearing-to-...</td>\n",
       "      <td>20</td>\n",
       "      <td>136</td>\n",
       "      <td>144</td>\n",
       "      <td>Baroque</td>\n",
       "      <td>rembrandt_the-angel-appearing-to-the-shepherds...</td>\n",
       "      <td>rembrandt</td>\n",
       "      <td>the angel appearing to the shepherds</td>\n",
       "    </tr>\n",
       "    <tr>\n",
       "      <th>1</th>\n",
       "      <td>1</td>\n",
       "      <td>DATA/Baroque/rembrandt_sick-woman-with-a-large...</td>\n",
       "      <td>20</td>\n",
       "      <td>137</td>\n",
       "      <td>144</td>\n",
       "      <td>Baroque</td>\n",
       "      <td>rembrandt_sick-woman-with-a-large-white-headdr...</td>\n",
       "      <td>rembrandt</td>\n",
       "      <td>sick woman with a large white headdress saskia</td>\n",
       "    </tr>\n",
       "    <tr>\n",
       "      <th>2</th>\n",
       "      <td>2</td>\n",
       "      <td>DATA/Baroque/rembrandt_portrait-of-margeretha-...</td>\n",
       "      <td>20</td>\n",
       "      <td>135</td>\n",
       "      <td>144</td>\n",
       "      <td>Baroque</td>\n",
       "      <td>rembrandt_portrait-of-margeretha-de-geer-1661.jpg</td>\n",
       "      <td>rembrandt</td>\n",
       "      <td>portrait of margeretha de geer</td>\n",
       "    </tr>\n",
       "  </tbody>\n",
       "</table>\n",
       "</div>"
      ],
      "text/plain": [
       "   Unnamed: 0                                               file  artist  \\\n",
       "0           0  DATA/Baroque/rembrandt_the-angel-appearing-to-...      20   \n",
       "1           1  DATA/Baroque/rembrandt_sick-woman-with-a-large...      20   \n",
       "2           2  DATA/Baroque/rembrandt_portrait-of-margeretha-...      20   \n",
       "\n",
       "   genre  style      Dir                                              image  \\\n",
       "0    136    144  Baroque  rembrandt_the-angel-appearing-to-the-shepherds...   \n",
       "1    137    144  Baroque  rembrandt_sick-woman-with-a-large-white-headdr...   \n",
       "2    135    144  Baroque  rembrandt_portrait-of-margeretha-de-geer-1661.jpg   \n",
       "\n",
       "  artist_name                               image_description  \n",
       "0   rembrandt           the angel appearing to the shepherds   \n",
       "1   rembrandt  sick woman with a large white headdress saskia  \n",
       "2   rembrandt                 portrait of margeretha de geer   "
      ]
     },
     "execution_count": 2,
     "metadata": {},
     "output_type": "execute_result"
    }
   ],
   "source": [
    "df = pd.read_csv('./data_df.csv')\n",
    "df.head(3)"
   ]
  },
  {
   "cell_type": "code",
   "execution_count": 52,
   "metadata": {},
   "outputs": [],
   "source": [
    "# Split the column values by a delimiter (e.g., comma)\n",
    "df['file'] = df['file'].str.split('/')\n",
    "\n",
    "# Select specific values after splitting\n",
    "df['file'] = df['file'].apply(lambda x: x[-2:])  # Select the second value after splitting\n",
    "\n",
    "## Join List back to string\n",
    "df['file'] = df['file'].str.join('/')"
   ]
  },
  {
   "cell_type": "code",
   "execution_count": 53,
   "metadata": {},
   "outputs": [],
   "source": [
    "## Parent Directory to file path\n",
    "df['file'] = \"DATA/\" + df['file']"
   ]
  },
  {
   "cell_type": "code",
   "execution_count": 56,
   "metadata": {},
   "outputs": [],
   "source": [
    "## SAVE File \n",
    "\n",
    "# df.to_csv('./data_df.csv')"
   ]
  },
  {
   "attachments": {},
   "cell_type": "markdown",
   "metadata": {},
   "source": [
    "# Creating Image Catalog"
   ]
  },
  {
   "cell_type": "code",
   "execution_count": 77,
   "metadata": {},
   "outputs": [],
   "source": [
    "temp_df = df[['file','artist_name','image_description']].values.tolist()"
   ]
  },
  {
   "cell_type": "code",
   "execution_count": 87,
   "metadata": {},
   "outputs": [],
   "source": [
    "image_catalog = {}\n",
    "for i in range(len(temp_df)):\n",
    "\n",
    "    image_catalog.update({i:temp_df[i]})"
   ]
  },
  {
   "cell_type": "code",
   "execution_count": null,
   "metadata": {},
   "outputs": [],
   "source": [
    "# Create Search able options name a image description\n",
    "options = [row[2] for row in image_catalog.values()]\n",
    "\n",
    "## Create Keys For Description options to number \n",
    "des_key = {}\n",
    "for  i in range(len(options)):\n",
    "      des_key.update({options[i]:i})\n",
    "      "
   ]
  },
  {
   "cell_type": "code",
   "execution_count": 119,
   "metadata": {},
   "outputs": [],
   "source": [
    "import json\n",
    "\n",
    "# # # Save the dictionary as JSON to a file\n",
    "# with open('./image_catalog.json', 'w') as file:\n",
    "#     json.dump(image_catalog, file)\n",
    "\n",
    "# ### Save Keys Options\n",
    "# with open('./des_key.json', 'w') as file:\n",
    "#     json.dump(des_key, file)"
   ]
  },
  {
   "cell_type": "code",
   "execution_count": 96,
   "metadata": {},
   "outputs": [],
   "source": [
    "\n",
    "# Load the JSON data from the file\n",
    "with open('./image_catalog.json', 'r') as file:\n",
    "    image_catalog  = json.load(file)"
   ]
  },
  {
   "attachments": {},
   "cell_type": "markdown",
   "metadata": {},
   "source": [
    "# Reccomendation"
   ]
  },
  {
   "cell_type": "code",
   "execution_count": 128,
   "metadata": {},
   "outputs": [],
   "source": [
    "import numpy as np\n",
    "\n",
    "# Load the NumPy array from a file\n",
    "merged_final_features = np.load('./final_features.npy')\n"
   ]
  },
  {
   "cell_type": "code",
   "execution_count": 152,
   "metadata": {},
   "outputs": [],
   "source": [
    "from sklearn.metrics.pairwise import cosine_similarity\n",
    "\n",
    "user_selected_indices = [145, 100, 2456]  # Indices of user-selected images\n"
   ]
  },
  {
   "cell_type": "code",
   "execution_count": 148,
   "metadata": {},
   "outputs": [],
   "source": [
    "def Reccomend_art(merged_final_features,user_selected_indices):\n",
    "    # Merged User Selected Inndexs of that featues\n",
    "    user_selected_features = merged_final_features[user_selected_indices]\n",
    "    ## Calculate Similarities between User Selected index and other images\n",
    "    similarity_scores = cosine_similarity(user_selected_features, merged_final_features)\n",
    "    \n",
    "    #Sort and Retrieve Top Similar Images\n",
    "    similar_images_indices = similarity_scores.argsort(axis=1)[:, ::-1]  # Sort indices in descending order\n",
    "    recommended_images_indices = similar_images_indices[:, 1:6]  # Retrieve top 5 similar images (excluding the selected images)\n",
    "\n",
    "    # recommended  and 6 random images from most similar images 5 from each index\n",
    "    rec_index = np.random.choice(recommended_images_indices.flatten(), size=6, replace=False)\n",
    "\n",
    "    return rec_index\n",
    "    "
   ]
  },
  {
   "cell_type": "code",
   "execution_count": 151,
   "metadata": {},
   "outputs": [
    {
     "data": {
      "text/plain": [
       "array([2059,  332, 1427, 3977,  340,  101], dtype=int64)"
      ]
     },
     "execution_count": 151,
     "metadata": {},
     "output_type": "execute_result"
    }
   ],
   "source": [
    "Reccomend_art(merged_final_features,user_selected_indices)"
   ]
  },
  {
   "cell_type": "code",
   "execution_count": null,
   "metadata": {},
   "outputs": [],
   "source": []
  }
 ],
 "metadata": {
  "kernelspec": {
   "display_name": "Art_Reccomendation--zotTXVR",
   "language": "python",
   "name": "python3"
  },
  "language_info": {
   "codemirror_mode": {
    "name": "ipython",
    "version": 3
   },
   "file_extension": ".py",
   "mimetype": "text/x-python",
   "name": "python",
   "nbconvert_exporter": "python",
   "pygments_lexer": "ipython3",
   "version": "3.10.11"
  },
  "orig_nbformat": 4
 },
 "nbformat": 4,
 "nbformat_minor": 2
}
